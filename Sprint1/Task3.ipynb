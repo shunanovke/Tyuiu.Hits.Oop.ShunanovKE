{
 "cells": [
  {
   "cell_type": "markdown",
   "metadata": {},
   "source": [
    "<h1 style=\"color:DodgerBlue\">Индивидальный проект</h1>"
   ]
  },
  {
   "cell_type": "markdown",
   "metadata": {},
   "source": [
    "<h2 style=\"color:DodgerBlue\">Название проекта:</h2>\n",
    "\n",
    "----\n",
    "\n",
    "### Вариант задания \n"
   ]
  },
  {
   "cell_type": "markdown",
   "metadata": {},
   "source": [
    "<h2 style=\"color:DodgerBlue\">Описание проекта:</h2>\n",
    "\n",
    "----\n",
    "\n",
    "[ваш текст]\n",
    "\n",
    "#### Дополнительное задание\n",
    "Добавьте к сущестующим классам конструктора классов с использованием гетторов и сетторов и реализуйте взаимодействие объектов между собой"
   ]
  },
  {
   "cell_type": "markdown",
   "metadata": {},
   "source": [
    "<h2 style=\"color:DodgerBlue\">Реализация:</h2>\n",
    "\n",
    "----"
   ]
  },
  {
   "cell_type": "code",
   "execution_count": 1,
   "metadata": {
    "dotnet_interactive": {
     "language": "csharp"
    },
    "polyglot_notebook": {
     "kernelName": "csharp"
    }
   },
   "outputs": [
    {
     "name": "stdout",
     "output_type": "stream",
     "text": [
      "Имя: Кирилл Возраст: 19 Пол: Мужчина\n",
      "Привет, я студент 2 курса\n",
      "Имя: Зинаида  Возраст: 41  Пол: Женщина  Компания: ТИУ  Зарплата: 30000\n",
      "Привет!\n",
      "Имя: Игорь Возраст: 46 Пол: Мужчина\n",
      "Привет, я учитель по предмету ООП\n"
     ]
    }
   ],
   "source": [
    "class Person\n",
    "{\n",
    "    protected string name;\n",
    "    protected int age;\n",
    "    protected string gender;\n",
    "\n",
    "    public string Name\n",
    "    {\n",
    "        get { return name; }\n",
    "        set { name = value; }\n",
    "    }\n",
    "    public int Age\n",
    "    {\n",
    "        get { return age; }\n",
    "        set { age = value; }\n",
    "    }\n",
    "    public string Gender\n",
    "    {\n",
    "        get { return gender; }\n",
    "        set { gender = value; }\n",
    "    }\n",
    "\n",
    "    public Person(string PersonName, int PersonAge, string PersonGender) : base()\n",
    "    {\n",
    "        name = PersonName;\n",
    "        age = PersonAge;\n",
    "        gender = PersonGender;\n",
    "    }\n",
    "\n",
    "\n",
    "\n",
    "    public virtual void GetInfo()\n",
    "    {\n",
    "        Console.WriteLine($\"Имя: {name} Возраст: {age} Пол: {gender}\");\n",
    "    }\n",
    "\n",
    "    public virtual void SayHello()\n",
    "    {\n",
    "        Console.WriteLine(\"Привет!\");\n",
    "    }\n",
    "}\n",
    "\n",
    "class Student : Person\n",
    "{\n",
    "    private string university;\n",
    "    private int course;\n",
    "\n",
    "    public string University\n",
    "    {\n",
    "        get { return university; }\n",
    "        set { university = value; }\n",
    "    }\n",
    "    public int Course\n",
    "    {\n",
    "        get { return course; }\n",
    "        set { course = value; }\n",
    "    }\n",
    "\n",
    "    public Student(string StudentName, int StudentAge, string StudentGender, string StudentUniversity, int StudentCourse) : base(StudentName, StudentAge, StudentGender)\n",
    "    {\n",
    "        university = StudentUniversity;\n",
    "        course = StudentCourse;\n",
    "    }\n",
    "\n",
    "    public override void SayHello()\n",
    "    {\n",
    "        Console.WriteLine($\"Привет, я студент {course} курса\");\n",
    "    }\n",
    "}\n",
    "\n",
    "class Employee : Person\n",
    "{\n",
    "    private string company;\n",
    "    private int salary;\n",
    "\n",
    "    public string Company\n",
    "    {\n",
    "        get { return company; }\n",
    "        set { company = value; }\n",
    "    }\n",
    "    public int Salary\n",
    "    {\n",
    "        get { return salary; }\n",
    "        set { salary = value; }\n",
    "    }\n",
    "\n",
    "    public Employee(string EmployeeName, int EmployeeAge, string EmployeeGender, string EmployeeCompany, int EmployeeSalary) : base(EmployeeName, EmployeeAge, EmployeeGender)\n",
    "    {\n",
    "        company = EmployeeCompany;\n",
    "        salary = EmployeeSalary;\n",
    "    }\n",
    "\n",
    "    public override void GetInfo()\n",
    "    {\n",
    "        Console.WriteLine($\"Имя: {name}  Возраст: {age}  Пол: {gender}  Компания: {company}  Зарплата: {salary}\");\n",
    "    }\n",
    "}\n",
    "\n",
    "class Teacher : Person\n",
    "{\n",
    "    private string subject;\n",
    "    private int experience;\n",
    "\n",
    "    public string Subject\n",
    "    {\n",
    "        get { return subject; }\n",
    "        set { subject = value; }\n",
    "    }\n",
    "    public int Experience\n",
    "    {\n",
    "        get { return experience; }\n",
    "        set { experience = value; }\n",
    "    }\n",
    "\n",
    "    public Teacher(string TeacherName, int TeacherAge, string TeacherGender, string TeacherSubject, int TeacherExperience) : base(TeacherName, TeacherAge, TeacherGender)\n",
    "    {\n",
    "        subject = TeacherSubject;\n",
    "        experience = TeacherExperience;\n",
    "    }\n",
    "\n",
    "    public override void SayHello()\n",
    "    {\n",
    "        Console.WriteLine($\"Привет, я учитель по предмету {subject}\");\n",
    "    }\n",
    "}\n",
    "\n",
    "Student me = new Student(\"Кирилл\", 19, \"Мужчина\", \"ТИУ\", 2);\n",
    "me.GetInfo();\n",
    "me.SayHello();\n",
    "\n",
    "Employee Zina = new Employee(\"Зинаида\", 41, \"Женщина\", \"ТИУ\", 30000);\n",
    "Zina.GetInfo();\n",
    "Zina.SayHello();\n",
    "\n",
    "Teacher SpirinIgor = new Teacher(\"Игорь\", 46, \"Мужчина\", \"ООП\", 21);\n",
    "SpirinIgor.GetInfo();\n",
    "SpirinIgor.SayHello();\n"
   ]
  }
 ],
 "metadata": {
  "kernelspec": {
   "display_name": ".NET (C#)",
   "language": "C#",
   "name": ".net-csharp"
  },
  "polyglot_notebook": {
   "kernelInfo": {
    "defaultKernelName": "csharp",
    "items": [
     {
      "aliases": [],
      "languageName": "csharp",
      "name": "csharp"
     }
    ]
   }
  }
 },
 "nbformat": 4,
 "nbformat_minor": 2
}
