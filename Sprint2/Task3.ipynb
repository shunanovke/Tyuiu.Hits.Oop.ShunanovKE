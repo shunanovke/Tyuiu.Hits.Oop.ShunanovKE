{
 "cells": [
  {
   "cell_type": "markdown",
   "metadata": {},
   "source": [
    "<h1 style=\"color:DodgerBlue\">Индивидальный проект</h1>"
   ]
  },
  {
   "cell_type": "markdown",
   "metadata": {},
   "source": [
    "<h2 style=\"color:DodgerBlue\">Название проекта:</h2>\n",
    "\n",
    "----\n",
    "\n",
    "### Вариант задания 1\n"
   ]
  },
  {
   "cell_type": "markdown",
   "metadata": {},
   "source": [
    "<h2 style=\"color:DodgerBlue\">Описание проекта:</h2>\n",
    "\n",
    "----\n",
    "\n",
    "Описание задачи:\n",
    "Создать базовый класс Person в C#, который будет представлять информацию о\n",
    "человеке. На основе этого класса разработать 2-3 производных класса,\n",
    "демонстрирующих принципы наследования и полиморфизма. В каждом из классов\n",
    "должны быть реализованы новые атрибуты и методы, а также переопределены\n",
    "некоторые методы базового класса для демонстрации полиморфизма.\n",
    "Требования к базовому классу Person:\n",
    "• Атрибуты: Имя (Name), Возраст (Age), Пол (Gender).\n",
    "• Методы:\n",
    "o GetInfo(): метод для получения информации о человеке в виде строки.\n",
    "o SayHello(): метод для вывода приветствия от человека.\n",
    "Требования к производным классам:\n",
    "1. Студент (Student): Должен содержать дополнительные атрибуты, такие как\n",
    "Университет (University) и Курс (Course). Метод SayHello() должен быть\n",
    "переопределен для добавления информации о курсе при приветствии.\n",
    "2. Работник (Employee): Должен содержать дополнительные атрибуты, такие\n",
    "как Компания (Company) и Зарплата (Salary). Метод GetInfo() должен быть\n",
    "переопределен для включения информации о компании и зарплате.\n",
    "3. Преподаватель (Teacher) (если требуется третий класс): Должен содержать\n",
    "дополнительные атрибуты, такие как Предмет (Subject) и Стаж работы\n",
    "(Experience). Метод SayHello() должен быть переопределен для добавления\n",
    "информации о преподаваемом предмете при приветствии.\n",
    "\n",
    "\n",
    "#### Дополнительное задание\n",
    "Добавьте к сущестующим классам (базовыму и производным 3-4 атрибута и метода) и реализуйте простое, сложное и множественное наследование"
   ]
  },
  {
   "cell_type": "markdown",
   "metadata": {},
   "source": [
    "<h2 style=\"color:DodgerBlue\">Реализация:</h2>\n",
    "\n",
    "----"
   ]
  },
  {
   "cell_type": "code",
   "execution_count": 5,
   "metadata": {
    "dotnet_interactive": {
     "language": "csharp"
    },
    "polyglot_notebook": {
     "kernelName": "csharp"
    }
   },
   "outputs": [
    {
     "name": "stdout",
     "output_type": "stream",
     "text": [
      "Имя: Кирилл Возраст: 19 Пол: Мужчина\n",
      "Привет, я студент 2 курса\n",
      "Имя: Зинаида  Возраст: 41  Пол: Женщина  Компания: ТИУ  Зарплата: 30000\n",
      "Привет!\n",
      "Имя: Игорь Возраст: 46 Пол: Мужчина\n",
      "Привет, я учитель по предмету ООП\n",
      "--------------------------------------------------------------------------\n",
      "Игорь дал задание студенту Кирилл\n",
      "Кирилл делает следующее задание на языке C#: Написать программу по выдаче и работе с заданием\n"
     ]
    }
   ],
   "source": [
    "interface ITeacher{\n",
    "    void GiveTask(Student Student_PKT, string Task);\n",
    "}\n",
    "\n",
    "abstract class Person\n",
    "{\n",
    "    protected string name {get; set;}\n",
    "    protected int age {get; set;}\n",
    "    protected string gender {get; set;}\n",
    "\n",
    "    public string Name{\n",
    "        get {return name;}\n",
    "        set {name = value;}\n",
    "    }\n",
    "\n",
    "    public Person(string PersonName, int PersonAge, string PersonGender)\n",
    "    {\n",
    "        name = PersonName;\n",
    "        age = PersonAge;\n",
    "        gender = PersonGender;\n",
    "    }\n",
    "\n",
    "    public virtual void GetInfo()\n",
    "    {\n",
    "        Console.WriteLine($\"Имя: {name} Возраст: {age} Пол: {gender}\");\n",
    "    }\n",
    "\n",
    "    public virtual void SayHello()\n",
    "    {\n",
    "        Console.WriteLine(\"Привет!\");\n",
    "    }\n",
    "}\n",
    "\n",
    "class Student : Person\n",
    "{\n",
    "    private string university {get; set;}\n",
    "    private int course {get; set;}\n",
    "\n",
    "    public Student(string StudentName, int StudentAge, string StudentGender, string StudentUniversity, int StudentCourse)\n",
    "     : base(StudentName, StudentAge, StudentGender)\n",
    "    {\n",
    "        university = StudentUniversity;\n",
    "        course = StudentCourse;\n",
    "    }\n",
    "\n",
    "    public override void SayHello()\n",
    "    {\n",
    "        Console.WriteLine($\"Привет, я студент {course} курса\");\n",
    "    }\n",
    "\n",
    "    public virtual void DoingTask(string Task)\n",
    "    {\n",
    "        Console.WriteLine(name + \" делает слудющее задание: \" + Task);\n",
    "    }\n",
    "}\n",
    "\n",
    "class Programmist_Student : Student\n",
    "{\n",
    "    private string Language {get;set;}\n",
    "\n",
    "    public Programmist_Student(string StudentName, int StudentAge, string StudentGender, string StudentUniversity, int StudentCourse, string lang)\n",
    "     : base(StudentName, StudentAge, StudentGender, StudentUniversity, StudentCourse)\n",
    "     {\n",
    "        Language = lang;\n",
    "     }\n",
    "\n",
    "    public override void DoingTask(string Task)\n",
    "    {\n",
    "        Console.WriteLine($\"{name} делает следующее задание на языке {Language}: {Task}\");\n",
    "    }\n",
    "}\n",
    "\n",
    "class Employee : Person\n",
    "{\n",
    "    private string company {get; set;}\n",
    "    private int salary {get; set;}\n",
    "\n",
    "    public Employee(string EmployeeName, int EmployeeAge, string EmployeeGender, string EmployeeCompany, int EmployeeSalary) : base(EmployeeName, EmployeeAge, EmployeeGender)\n",
    "    {\n",
    "        company = EmployeeCompany;\n",
    "        salary = EmployeeSalary;\n",
    "    }\n",
    "\n",
    "    public override void GetInfo()\n",
    "    {\n",
    "        Console.WriteLine($\"Имя: {name}  Возраст: {age}  Пол: {gender}  Компания: {company}  Зарплата: {salary}\");\n",
    "    }\n",
    "}\n",
    "\n",
    "class Teacher : Person, ITeacher\n",
    "{\n",
    "    private string subject {get; set;}\n",
    "    private int experience {get; set;}\n",
    "\n",
    "    public Teacher(string TeacherName, int TeacherAge, string TeacherGender, string TeacherSubject, int TeacherExperience) : base(TeacherName, TeacherAge, TeacherGender)\n",
    "    {\n",
    "        subject = TeacherSubject;\n",
    "        experience = TeacherExperience;\n",
    "    }\n",
    "\n",
    "    public override void SayHello()\n",
    "    {\n",
    "        Console.WriteLine($\"Привет, я учитель по предмету {subject}\");\n",
    "    }\n",
    "\n",
    "    public void GiveTask(Student Student_PKT, string Task)\n",
    "    {\n",
    "        Console.WriteLine(name + \" дал задание студенту \" + Student_PKT.Name);\n",
    "        Student_PKT.DoingTask(Task);\n",
    "    }\n",
    "}\n",
    "\n",
    "Programmist_Student me = new Programmist_Student(\"Кирилл\", 19, \"Мужчина\", \"ТИУ\", 2, \"C#\");\n",
    "me.GetInfo();\n",
    "me.SayHello();\n",
    "\n",
    "Employee Zina = new Employee(\"Зинаида\", 41, \"Женщина\", \"ТИУ\", 30000);\n",
    "Zina.GetInfo();\n",
    "Zina.SayHello();\n",
    "\n",
    "Teacher SpirinIgor = new Teacher(\"Игорь\", 46, \"Мужчина\", \"ООП\", 21);\n",
    "SpirinIgor.GetInfo();\n",
    "SpirinIgor.SayHello();\n",
    "\n",
    "Console.WriteLine(\"--------------------------------------------------------------------------\");\n",
    "\n",
    "SpirinIgor.GiveTask(me, \"Написать программу по выдаче и работе с заданием\");"
   ]
  }
 ],
 "metadata": {
  "kernelspec": {
   "display_name": ".NET (C#)",
   "language": "C#",
   "name": ".net-csharp"
  },
  "polyglot_notebook": {
   "kernelInfo": {
    "defaultKernelName": "csharp",
    "items": [
     {
      "aliases": [],
      "languageName": "csharp",
      "name": "csharp"
     }
    ]
   }
  }
 },
 "nbformat": 4,
 "nbformat_minor": 2
}
