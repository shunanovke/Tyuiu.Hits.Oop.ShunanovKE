{
 "cells": [
  {
   "cell_type": "markdown",
   "metadata": {},
   "source": [
    "<h1 style=\"color:DodgerBlue\">Индивидальный проект</h1>"
   ]
  },
  {
   "cell_type": "markdown",
   "metadata": {},
   "source": [
    "<h2 style=\"color:DodgerBlue\">Название проекта:</h2>\n",
    "\n",
    "----\n",
    "\n",
    "### Вариант задания 1\n"
   ]
  },
  {
   "cell_type": "markdown",
   "metadata": {},
   "source": [
    "<h2 style=\"color:DodgerBlue\">Описание проекта:</h2>\n",
    "\n",
    "----\n",
    "\n",
    "Описание задачи:\n",
    "Создать базовый класс Person в C#, который будет представлять информацию о\n",
    "человеке. На основе этого класса разработать 2-3 производных класса,\n",
    "демонстрирующих принципы наследования и полиморфизма. В каждом из классов\n",
    "должны быть реализованы новые атрибуты и методы, а также переопределены\n",
    "некоторые методы базового класса для демонстрации полиморфизма.\n",
    "Требования к базовому классу Person:\n",
    "• Атрибуты: Имя (Name), Возраст (Age), Пол (Gender).\n",
    "• Методы:\n",
    "o GetInfo(): метод для получения информации о человеке в виде строки.\n",
    "o SayHello(): метод для вывода приветствия от человека.\n",
    "Требования к производным классам:\n",
    "1. Студент (Student): Должен содержать дополнительные атрибуты, такие как\n",
    "Университет (University) и Курс (Course). Метод SayHello() должен быть\n",
    "переопределен для добавления информации о курсе при приветствии.\n",
    "2. Работник (Employee): Должен содержать дополнительные атрибуты, такие\n",
    "как Компания (Company) и Зарплата (Salary). Метод GetInfo() должен быть\n",
    "переопределен для включения информации о компании и зарплате.\n",
    "3. Преподаватель (Teacher) (если требуется третий класс): Должен содержать\n",
    "дополнительные атрибуты, такие как Предмет (Subject) и Стаж работы\n",
    "(Experience). Метод SayHello() должен быть переопределен для добавления\n",
    "информации о преподаваемом предмете при приветствии.\n"
   ]
  },
  {
   "cell_type": "markdown",
   "metadata": {},
   "source": [
    "<h2 style=\"color:DodgerBlue\">Реализация:</h2>\n",
    "\n",
    "----"
   ]
  },
  {
   "cell_type": "code",
   "execution_count": 2,
   "metadata": {
    "dotnet_interactive": {
     "language": "csharp"
    },
    "polyglot_notebook": {
     "kernelName": "csharp"
    }
   },
   "outputs": [
    {
     "name": "stdout",
     "output_type": "stream",
     "text": [
      "Имя: Кирилл Возраст: 19 Пол: Муж\n",
      "Привет, я студент 2 курса\n",
      "Имя: Зинаида Возраст: 41 Пол: Жен Компания: TyuIU Зарплата: 30000\n",
      "Привет!\n",
      "Имя: Игорь Возраст: 46 Пол: Муж\n",
      "Привет, я учитель по предмету Oop\n"
     ]
    }
   ],
   "source": [
    "class Person\n",
    "{\n",
    "    public string name;\n",
    "    public int age;\n",
    "    public string gender;\n",
    "\n",
    "    public virtual void GetInfo()\n",
    "    {\n",
    "        Console.WriteLine($\"Имя: {name} Возраст: {age} Пол: {gender}\");\n",
    "    }\n",
    "\n",
    "    public virtual void SayHello()\n",
    "    {\n",
    "        Console.WriteLine(\"Привет!\");\n",
    "    }\n",
    "}\n",
    "\n",
    "class Student : Person\n",
    "{\n",
    "    public string university;\n",
    "    public int course;\n",
    "\n",
    "    public override void SayHello()\n",
    "    {\n",
    "        Console.WriteLine($\"Привет, я студент {course} курса\");\n",
    "    }\n",
    "}\n",
    "\n",
    "class Employee : Person\n",
    "{\n",
    "    public string company;\n",
    "    public int salary;\n",
    "\n",
    "    public override void GetInfo()\n",
    "    {\n",
    "        Console.WriteLine($\"Имя: {name} Возраст: {age} Пол: {gender} Компания: {company} Зарплата: {salary}\");\n",
    "    }\n",
    "}\n",
    "\n",
    "class Teacher : Person\n",
    "{\n",
    "    public string subject;\n",
    "    public int experience;\n",
    "\n",
    "    public override void SayHello()\n",
    "    {\n",
    "        Console.WriteLine($\"Привет, я учитель по предмету {subject}\");\n",
    "    }\n",
    "}\n",
    "\n",
    "Student me = new Student();\n",
    "me.age = 19;\n",
    "me.name = \"Кирилл\";\n",
    "me.gender = \"Муж\";\n",
    "me.university = \"TyuIU\";\n",
    "me.course = 2;\n",
    "me.GetInfo();\n",
    "me.SayHello();\n",
    "\n",
    "Employee Zina = new Employee();\n",
    "Zina.age = 41;\n",
    "Zina.name = \"Зинаида\";\n",
    "Zina.gender = \"Жен\";\n",
    "Zina.company = \"TyuIU\";\n",
    "Zina.salary = 30000;\n",
    "Zina.GetInfo();\n",
    "Zina.SayHello();\n",
    "\n",
    "Teacher SpirinIgor = new Teacher();\n",
    "SpirinIgor.age = 46;\n",
    "SpirinIgor.name = \"Игорь\";\n",
    "SpirinIgor.gender = \"Муж\";\n",
    "SpirinIgor.subject = \"Oop\";\n",
    "SpirinIgor.experience = 21;\n",
    "SpirinIgor.GetInfo();\n",
    "SpirinIgor.SayHello();\n"
   ]
  }
 ],
 "metadata": {
  "kernelspec": {
   "display_name": ".NET (C#)",
   "language": "C#",
   "name": ".net-csharp"
  },
  "polyglot_notebook": {
   "kernelInfo": {
    "defaultKernelName": "csharp",
    "items": [
     {
      "aliases": [],
      "languageName": "csharp",
      "name": "csharp"
     }
    ]
   }
  }
 },
 "nbformat": 4,
 "nbformat_minor": 2
}
